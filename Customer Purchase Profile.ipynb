{
 "cells": [
  {
   "cell_type": "markdown",
   "metadata": {},
   "source": [
    "# Customer Purchase Profile\n",
    "\n",
    "The following example is using generated sample data based on Amazon purchase data.\n",
    "\n",
    "## Table of Contents\n",
    " - How to retrieve your data\n",
    "\n",
    " - 3 Data Prep\n",
    "     - 3.1 Imports\n",
    "     - 3.2 Anonymization\n",
    "     - 3.3 Cleaning\n",
    "     - 3.4 (Saving & Re-importing)\n",
    "\n",
    " - 4 Data Insights\n",
    "     - 4.1 At-a-Glance insights. - Insights at a glance(Categories, visualizing simple segmentations, Averages, values over time, etc.)\n",
    "     - 4.2 In-depth Insights - Insights in depth (Complex Data Processing, Custom Segmentations, Visualizations of Complex Processing, Machine Learning, etc.)\n",
    " - 5 Further Future Steps"
   ]
  },
  {
   "cell_type": "markdown",
   "metadata": {},
   "source": [
    "## 2 Data Retrieval:\n",
    " - **Step 1.)** Go to [this page](https://www.amazon.com/gp/b2b/reports?ref_=ya_d_l_order_reports&). (If the link doesn't work then go to your account and click on the link that says \"Download order reports\" under the section titled \"Ordering and shopping preferences\".)\n",
    "\n",
    " - **Step 2.)** Under \"Report Type\" the selection \"Items\" should already be selected.  For the Start Date select January 1st of the lowest numerical year.  Click on \"use today\" on the next line.  Feel free to title the report whatever helps you remember it.  (This isn't information that I'll be able to see anyways.)\n",
    "\n",
    " - **Step 3.)** Click on \"Request Report\".  Then send me the accompanying csv file in whatever way is easiest for you or is standard for the company.\n",
    "\n",
    " - **Step 4.)** If you'd like to do even more then you can also select the other three choices under \"Report Type\" and send me the reports by repeating steps 2 and 3 for each.  (Note: Orders and Shipments is mostly data that's already covered in the item csv, but with the difference that items rows have been combined into the individual box in which they've been shipped and it includes the shipping price and promotion info of the whole shipment.)"
   ]
  },
  {
   "cell_type": "markdown",
   "metadata": {},
   "source": [
    "## 3 Data Prep"
   ]
  },
  {
   "cell_type": "markdown",
   "metadata": {},
   "source": [
    "### 3.1 Importing Data"
   ]
  },
  {
   "cell_type": "code",
   "execution_count": 1,
   "metadata": {},
   "outputs": [],
   "source": [
    "# [Code for importing data and libraries.]\n",
    "import pandas as pd\n",
    "import numpy as np\n",
    "import random\n",
    "import matplotlib.pyplot as plt\n",
    "import seaborn as sns\n",
    "%matplotlib inline\n",
    "\n",
    "# Natural Language Processing libraries\n",
    "from sklearn.feature_extraction.text import CountVectorizer\n",
    "from nltk.stem import WordNetLemmatizer\n",
    "from nltk import word_tokenize\n",
    "from nltk.corpus import stopwords\n",
    "# Other\n",
    "import requests\n",
    "import time\n",
    "import re"
   ]
  },
  {
   "cell_type": "code",
   "execution_count": 2,
   "metadata": {},
   "outputs": [],
   "source": [
    "my_data = pd.read_csv('./data/Example_data.csv')"
   ]
  },
  {
   "cell_type": "markdown",
   "metadata": {},
   "source": [
    "### 3.3 Data Cleaning & Transformation"
   ]
  },
  {
   "cell_type": "code",
   "execution_count": 3,
   "metadata": {},
   "outputs": [],
   "source": [
    "def funct_price_to_int(Series):\n",
    "    return Series.map(lambda x: float(x.strip('$')))\n",
    "\n",
    "def funct_percent_of_total_col(column, interesting_value):\n",
    "    return ((column == interesting_value)*1).sum() / len(column.dropna())\n",
    "\n",
    "def funct_prep_data_items(df_for_function):\n",
    "    df_for_function = df_for_function.rename(\n",
    "            {'List Price Per Unit'     : 'Price_listed',\n",
    "            'Purchase Price Per Unit' : 'Price_purchased_at',\n",
    "            'Payment Instrument Type' : 'Payment_type',\n",
    "            'Order Date'              : 'Order_date',\n",
    "            'Item Subtotal Tax'       : 'Tax'\n",
    "            }, axis = 1)\n",
    "    df_for_function = df_for_function[['Order_date', 'Title', 'Category', \n",
    "                                       'Condition',\n",
    "                                       'Seller', \n",
    "                                       'Price_listed',\n",
    "                                       'Price_purchased_at', \n",
    "                                       'Quantity', \n",
    "                                       #'Payment_type', \n",
    "                                       'Tax']]\n",
    "    \n",
    "    for col in ['Price_listed', 'Price_purchased_at', 'Tax']:\n",
    "        df_for_function[col] = funct_price_to_int(df_for_function[col])\n",
    "    df_for_function['Category'] = df_for_function['Category'].fillna(\"Uncategorized\")\n",
    "    df_for_function['Seller']   = df_for_function['Seller'].fillna(\"No_seller_listed\")\n",
    "    df_for_function['Condition']   = df_for_function['Condition'\n",
    "        ].fillna(\"Pre_Condition_listing\")\n",
    "    \n",
    "    print(\"Nulls in DF: \", df_for_function.isna().sum().sum())\n",
    "    return df_for_function\n",
    "\n",
    "def funct_items_to_day(Org_df, Org_series_name  = 'Order_date'):\n",
    "    list_of_dicts   = []\n",
    "\n",
    "    for Org_Foc_unique_value in list(Org_df[Org_series_name].unique()):\n",
    "        mask        = Org_df[Org_series_name] == Org_Foc_unique_value\n",
    "        sub_df          = Org_df[mask]\n",
    "\n",
    "        list_of_dicts.append({\n",
    "            'Order_date'         : Org_Foc_unique_value,\n",
    "            'Sum_price_listed'   : sub_df['Price_listed'].sum(),\n",
    "            'Sum_price_purchased': sub_df['Price_purchased_at'].sum(),\n",
    "            'Sum_tax'            : sub_df['Tax'].sum(),\n",
    "            'Num_items'          : sub_df['Quantity'].sum()})\n",
    "    Fnl_df = pd.DataFrame(list_of_dicts)\n",
    "\n",
    "    # The rest of this is just cleaning the DF\n",
    "    for index in Fnl_df.index:\n",
    "        cell_value = Fnl_df.loc[index,'Order_date']\n",
    "        Fnl_df.loc[index,'Month'] = int(cell_value[:2])\n",
    "        Fnl_df.loc[index,'Day']   = int(cell_value[3:5])\n",
    "        Fnl_df.loc[index,'Year']  = int(cell_value[6:8]) + 2000\n",
    "\n",
    "    # Floats to Intigers\n",
    "    Fnl_df['Day']   = Fnl_df['Day'].map(lambda x: int(x))\n",
    "    Fnl_df['Month'] = Fnl_df['Month'].map(lambda x: int(x))\n",
    "    Fnl_df['Year']  = Fnl_df['Year'].map(lambda x: int(x))\n",
    "    Fnl_df = pd.DataFrame(Fnl_df, columns=['Order_date','Month', 'Day', 'Year', \n",
    "                                           'Num_items', 'Sum_price_listed', \n",
    "                                         'Sum_price_purchased', 'Sum_tax'])\n",
    "    Fnl_df['date_sorted'] = pd.to_datetime(Fnl_df['Order_date'])\n",
    "    Fnl_df = Fnl_df.sort_values('date_sorted').reset_index(drop = True).drop(\n",
    "        'date_sorted', axis = 1)\n",
    "    return Fnl_df\n",
    "\n",
    "\n",
    "\n",
    "\n",
    "#df = funct_items_to_day(funct_prep_data_items(df_1_items))\n",
    "\n",
    "def funct_day_to_month(org_df):\n",
    "    df_by_month = pd.DataFrame(columns=['Month','Num_items',\n",
    "           'Sum_price_listed', 'Sum_price_purchased', 'Sum_tax'])\n",
    "    \n",
    "    for month in [i for i in range(1,13)]:\n",
    "        mask   = (org_df['Month'] == month)\n",
    "        sub_df = org_df[mask]\n",
    "        \n",
    "        df_by_month = df_by_month.append({\n",
    "            'Month'               : str(dict_months[month]),\n",
    "            'Month_num'           : int(month),\n",
    "            'Num_items'           : sub_df['Num_items'].sum(),\n",
    "            'Sum_price_listed'    : sub_df['Sum_price_listed'].sum(),\n",
    "            'Sum_price_purchased' : sub_df['Sum_price_purchased'].sum(),\n",
    "            'Sum_tax'             : sub_df['Sum_tax'].sum(),\n",
    "            'Sum_total_spent'     : (sub_df['Sum_tax'].sum() + \n",
    "                                     sub_df['Sum_price_purchased'].sum()),\n",
    "            'Sum_untaxed_saved'   : (sub_df['Sum_price_listed'].sum() - \n",
    "                                     sub_df['Sum_price_purchased'].sum())\n",
    "            }, ignore_index = True)\n",
    "        \n",
    "    df_by_month.set_index(df_by_month['Month'], inplace=True)\n",
    "    del df_by_month.index.name\n",
    "    return df_by_month.drop('Month', axis = 1)\n",
    "#funct_day_to_month(client1['dayby'])\n",
    "\n",
    "import calendar\n",
    "dict_months = {k: v for k,v in enumerate(calendar.month_abbr)}\n",
    "\n",
    "def funct_day_to_month_and_year(org_df):\n",
    "    df_by_month = pd.DataFrame(columns=['Month','Num_items',\n",
    "           'Sum_price_listed', 'Sum_price_purchased', 'Sum_tax'])\n",
    "            \n",
    "    for year in [i for i in range(org_df['Year'].unique()[0],\n",
    "                                  org_df['Year'].unique()[-1])]:\n",
    "        for month in range(1,13):\n",
    "            mask   = (org_df['Year'] == year) &(org_df['Month'] == month)\n",
    "            sub_df = org_df[mask]\n",
    "            df_by_month = df_by_month.append({'Month' : (str(dict_months[month]) \n",
    "                                                        + \" '\" + str(year)[2:]),\n",
    "             'Month_num' : int(month),\n",
    "             'Num_items' : sub_df['Num_items'].sum(),\n",
    "             'Sum_price_listed' : sub_df['Sum_price_listed'].sum(),\n",
    "             'Sum_price_purchased' : sub_df['Sum_price_purchased'].sum(),\n",
    "             'Sum_tax' : sub_df['Sum_tax'].sum()}, ignore_index = True)\n",
    "    df_by_month.set_index('Month', inplace=True)\n",
    "    del df_by_month.index.name\n",
    "    return df_by_month\n",
    "\n",
    "\n",
    "def funct_day_to_year(org_df):\n",
    "    df_by_year = pd.DataFrame(columns=['Year','Num_items',\n",
    "           'Sum_price_listed', 'Sum_price_purchased', 'Sum_tax'])\n",
    "    \n",
    "    for year in [i for i in range(org_df['Year'].unique()[0],\n",
    "                                  org_df['Year'].unique()[-1] + 1)]:\n",
    "        mask   = (org_df['Year'] == year)\n",
    "        sub_df = org_df[mask]\n",
    "        df_by_year = df_by_year.append({'Year' : int(year),\n",
    "            'Num_items'           : sub_df['Num_items'].sum(),\n",
    "            'Sum_price_listed'    : sub_df['Sum_price_listed'].sum(),\n",
    "            'Sum_price_purchased' : sub_df['Sum_price_purchased'].sum(),\n",
    "            'Sum_tax'             : sub_df['Sum_tax'].sum(),\n",
    "            'Sum_total_spent'     : (sub_df['Sum_tax'].sum() + \n",
    "                sub_df['Sum_price_purchased'].sum()),\n",
    "            'Sum_untaxed_saved'   : (sub_df['Sum_price_listed'].sum() \n",
    "                - sub_df['Sum_price_purchased'].sum())                             \n",
    "                }, ignore_index = True)\n",
    "    df_by_year.set_index(df_by_year['Year'].map(lambda x: int(x)), inplace=True)\n",
    "    del df_by_year.index.name\n",
    "    return df_by_year.drop('Year', axis = 1)\n",
    "#funct_day_to_year(client1['dayby'])\n",
    "\n",
    "def funct_items_by_category(org_df):\n",
    "    list_of_dicts   = []\n",
    "    \n",
    "    for cat in org_df['Category'].fillna('None').sort_values().unique():\n",
    "        mask = org_df['Category'] == cat\n",
    "        sub_df = org_df[mask]\n",
    "        \n",
    "        list_of_dicts.append({\n",
    "            'Category'           : cat,\n",
    "            'Percent_new'        : int((np.round(funct_percent_of_total_col(\n",
    "                sub_df['Condition'], 'new'),3)) * 100),\n",
    "            'Sum_price_listed'   : sub_df['Price_listed'].sum(),\n",
    "            'Sum_price_purchased': sub_df['Price_purchased_at'].sum(),\n",
    "            'Sum_tax'            : sub_df['Tax'].sum(),\n",
    "            'Num_items'          : sub_df['Quantity'].sum()\n",
    "        })\n",
    "        \n",
    "        \n",
    "        df_new = pd.DataFrame(list_of_dicts).dropna()\n",
    "        df_new.set_index('Category', inplace = True)\n",
    "        del df_new.index.name\n",
    "        \n",
    "    # The following comments are things I tried to have in-funt, but didn't work\n",
    "        #df_new = funct_summarize_rows(df_new)\n",
    "        #df_new['Num_items'] = df_new['Num_items'].map(lambda x: int(x))\n",
    "    return df_new\n",
    "#funct_items_by_category(client1['items'])\n",
    "\n",
    "def funct_summarize_rows(df, \n",
    "    row_new   = 'Books', \n",
    "    rows_old  = ['Hardcover','Paperback','Spiral-bound','Unknown Binding']\n",
    "):\n",
    "    rows_old  = [ i for i in df.index if i in rows_old]\n",
    "    sub_df    = df.loc[rows_old,:].dropna()\n",
    "    dict_book = {}\n",
    "    \n",
    "    for col in sub_df.drop('Percent_new', axis = 1).columns:\n",
    "        dict_book[col] = np.round(sub_df[col].sum(), 3)\n",
    "    dict_book['Percent_new'] = np.average(sub_df['Percent_new'])\n",
    "    return df.append(pd.Series(dict_book).rename(row_new)\n",
    "            ).drop(rows_old, errors = 'ignore'\n",
    "            ).sort_index()\n",
    "#funct_summarize_rows(funct_items_by_category(client1['items']))"
   ]
  },
  {
   "cell_type": "markdown",
   "metadata": {},
   "source": [
    "## 3.4 Importing Data"
   ]
  },
  {
   "cell_type": "code",
   "execution_count": 4,
   "metadata": {},
   "outputs": [
    {
     "name": "stdout",
     "output_type": "stream",
     "text": [
      "Nulls in DF:  0\n"
     ]
    }
   ],
   "source": [
    "df_items        = funct_prep_data_items(my_data)\n",
    "df_day          = funct_items_to_day(df_items)\n",
    "df_month        = funct_day_to_month(df_day)\n",
    "df_month_year   = funct_day_to_month_and_year(df_day)\n",
    "df_year         = funct_day_to_year(df_day)\n",
    "df_category     = funct_summarize_rows(funct_items_by_category(df_items)\n",
    "                                      ).sort_values('Num_items', ascending = False)\n",
    "\n",
    "#df_category['Num_items'] = client3['Category']['Num_items'].map(lambda x: int(x))"
   ]
  },
  {
   "cell_type": "markdown",
   "metadata": {},
   "source": [
    "## 4 Insights "
   ]
  },
  {
   "cell_type": "markdown",
   "metadata": {},
   "source": [
    "### 4.1 At-A-Glance Insights.\n",
    "Simple and/or quick insights for the Individual profile at a glance."
   ]
  },
  {
   "cell_type": "code",
   "execution_count": 5,
   "metadata": {},
   "outputs": [],
   "source": [
    "# [Code for the simple data insights.]"
   ]
  },
  {
   "cell_type": "code",
   "execution_count": 6,
   "metadata": {},
   "outputs": [
    {
     "data": {
      "text/plain": [
       "1398.67"
      ]
     },
     "execution_count": 6,
     "metadata": {},
     "output_type": "execute_result"
    }
   ],
   "source": [
    "# df_category #2\n",
    "# Total amount saved (Tax not involved)\n",
    "\n",
    "round(df_category['Sum_price_listed'].sum() - \n",
    "      df_category['Sum_price_purchased'].sum(), 3)"
   ]
  },
  {
   "cell_type": "code",
   "execution_count": 7,
   "metadata": {},
   "outputs": [
    {
     "data": {
      "text/plain": [
       "0.424"
      ]
     },
     "execution_count": 7,
     "metadata": {},
     "output_type": "execute_result"
    }
   ],
   "source": [
    "# df_category #3\n",
    "# Percent saved (Tax not involved)\n",
    "\n",
    "round(1 - df_category['Sum_price_purchased'].sum() / \n",
    "      df_category['Sum_price_listed'].sum(), 3)"
   ]
  },
  {
   "cell_type": "code",
   "execution_count": 10,
   "metadata": {},
   "outputs": [
    {
     "data": {
      "text/plain": [
       "0.82"
      ]
     },
     "execution_count": 10,
     "metadata": {},
     "output_type": "execute_result"
    }
   ],
   "source": [
    "# % New\n",
    "np.round(funct_percent_of_total_col(df_items['Condition'],'new'),2)"
   ]
  },
  {
   "cell_type": "code",
   "execution_count": 11,
   "metadata": {},
   "outputs": [
    {
     "name": "stdout",
     "output_type": "stream",
     "text": [
      "Order_date            1.00\n",
      "Title                 1.00\n",
      "Category              1.00\n",
      "Condition             1.00\n",
      "Seller                0.75\n",
      "Price_listed          1.00\n",
      "Price_purchased_at    1.00\n",
      "Quantity              1.00\n",
      "Tax                   1.00\n",
      "dtype: float64\n"
     ]
    },
    {
     "name": "stderr",
     "output_type": "stream",
     "text": [
      "/Users/pearl/opt/anaconda3/lib/python3.7/site-packages/pandas/core/ops/__init__.py:1115: FutureWarning: elementwise comparison failed; returning scalar instead, but in the future will perform elementwise comparison\n",
      "  result = method(y)\n"
     ]
    }
   ],
   "source": [
    "# Stat_%_of_col 3\n",
    "# Percent of sellers that weren't Amazon\n",
    "print(1 - funct_percent_of_total_col(df_items,'Amazon.com'))\n",
    "# [Needs to be cleaned by removing the other columns and fixing the notice.]"
   ]
  },
  {
   "cell_type": "markdown",
   "metadata": {},
   "source": [
    "## Categories"
   ]
  },
  {
   "cell_type": "code",
   "execution_count": 12,
   "metadata": {},
   "outputs": [
    {
     "data": {
      "text/html": [
       "<div>\n",
       "<style scoped>\n",
       "    .dataframe tbody tr th:only-of-type {\n",
       "        vertical-align: middle;\n",
       "    }\n",
       "\n",
       "    .dataframe tbody tr th {\n",
       "        vertical-align: top;\n",
       "    }\n",
       "\n",
       "    .dataframe thead th {\n",
       "        text-align: right;\n",
       "    }\n",
       "</style>\n",
       "<table border=\"1\" class=\"dataframe\">\n",
       "  <thead>\n",
       "    <tr style=\"text-align: right;\">\n",
       "      <th></th>\n",
       "      <th>Percent_new</th>\n",
       "      <th>Sum_price_listed</th>\n",
       "      <th>Sum_price_purchased</th>\n",
       "      <th>Sum_tax</th>\n",
       "      <th>Num_items</th>\n",
       "    </tr>\n",
       "  </thead>\n",
       "  <tbody>\n",
       "    <tr>\n",
       "      <td>Uncategorized</td>\n",
       "      <td>100.0</td>\n",
       "      <td>221.92</td>\n",
       "      <td>249.31</td>\n",
       "      <td>6.18</td>\n",
       "      <td>20.0</td>\n",
       "    </tr>\n",
       "    <tr>\n",
       "      <td>Books</td>\n",
       "      <td>30.0</td>\n",
       "      <td>1462.97</td>\n",
       "      <td>462.82</td>\n",
       "      <td>13.12</td>\n",
       "      <td>14.0</td>\n",
       "    </tr>\n",
       "    <tr>\n",
       "      <td>Personal Computers</td>\n",
       "      <td>92.0</td>\n",
       "      <td>512.50</td>\n",
       "      <td>354.41</td>\n",
       "      <td>21.05</td>\n",
       "      <td>14.0</td>\n",
       "    </tr>\n",
       "    <tr>\n",
       "      <td>Video Game</td>\n",
       "      <td>22.0</td>\n",
       "      <td>239.91</td>\n",
       "      <td>58.60</td>\n",
       "      <td>4.88</td>\n",
       "      <td>9.0</td>\n",
       "    </tr>\n",
       "    <tr>\n",
       "      <td>Electronics</td>\n",
       "      <td>100.0</td>\n",
       "      <td>62.95</td>\n",
       "      <td>80.10</td>\n",
       "      <td>1.76</td>\n",
       "      <td>7.0</td>\n",
       "    </tr>\n",
       "    <tr>\n",
       "      <td>Misc.</td>\n",
       "      <td>100.0</td>\n",
       "      <td>204.91</td>\n",
       "      <td>157.31</td>\n",
       "      <td>5.64</td>\n",
       "      <td>7.0</td>\n",
       "    </tr>\n",
       "    <tr>\n",
       "      <td>Office Product</td>\n",
       "      <td>100.0</td>\n",
       "      <td>96.97</td>\n",
       "      <td>97.08</td>\n",
       "      <td>3.33</td>\n",
       "      <td>7.0</td>\n",
       "    </tr>\n",
       "    <tr>\n",
       "      <td>Kitchen</td>\n",
       "      <td>100.0</td>\n",
       "      <td>62.98</td>\n",
       "      <td>103.67</td>\n",
       "      <td>6.04</td>\n",
       "      <td>5.0</td>\n",
       "    </tr>\n",
       "    <tr>\n",
       "      <td>Tools &amp; Home Improvement</td>\n",
       "      <td>100.0</td>\n",
       "      <td>98.45</td>\n",
       "      <td>47.94</td>\n",
       "      <td>4.64</td>\n",
       "      <td>5.0</td>\n",
       "    </tr>\n",
       "    <tr>\n",
       "      <td>Wireless Phone Accessory</td>\n",
       "      <td>100.0</td>\n",
       "      <td>69.95</td>\n",
       "      <td>83.91</td>\n",
       "      <td>0.00</td>\n",
       "      <td>4.0</td>\n",
       "    </tr>\n",
       "  </tbody>\n",
       "</table>\n",
       "</div>"
      ],
      "text/plain": [
       "                          Percent_new  Sum_price_listed  Sum_price_purchased  \\\n",
       "Uncategorized                   100.0            221.92               249.31   \n",
       "Books                            30.0           1462.97               462.82   \n",
       "Personal Computers               92.0            512.50               354.41   \n",
       "Video Game                       22.0            239.91                58.60   \n",
       "Electronics                     100.0             62.95                80.10   \n",
       "Misc.                           100.0            204.91               157.31   \n",
       "Office Product                  100.0             96.97                97.08   \n",
       "Kitchen                         100.0             62.98               103.67   \n",
       "Tools & Home Improvement        100.0             98.45                47.94   \n",
       "Wireless Phone Accessory        100.0             69.95                83.91   \n",
       "\n",
       "                          Sum_tax  Num_items  \n",
       "Uncategorized                6.18       20.0  \n",
       "Books                       13.12       14.0  \n",
       "Personal Computers          21.05       14.0  \n",
       "Video Game                   4.88        9.0  \n",
       "Electronics                  1.76        7.0  \n",
       "Misc.                        5.64        7.0  \n",
       "Office Product               3.33        7.0  \n",
       "Kitchen                      6.04        5.0  \n",
       "Tools & Home Improvement     4.64        5.0  \n",
       "Wireless Phone Accessory     0.00        4.0  "
      ]
     },
     "execution_count": 12,
     "metadata": {},
     "output_type": "execute_result"
    }
   ],
   "source": [
    "# df_category #2\n",
    "# Top 10 catagories\n",
    "df_category.head(10)"
   ]
  },
  {
   "cell_type": "markdown",
   "metadata": {},
   "source": [
    "### Top Words"
   ]
  },
  {
   "cell_type": "code",
   "execution_count": 13,
   "metadata": {},
   "outputs": [],
   "source": [
    "\n",
    "def preprocess(text):\n",
    "    text = re.sub(r'[^a-zA-Z]',' ', text.lower())\n",
    "    tokens = word_tokenize(text)\n",
    "    lemmer = WordNetLemmatizer()\n",
    "    stop_words = stopwords.words(\"english\")\n",
    "    return \" \".join([lemmer.lemmatize(word) for word \n",
    "                     in tokens if len(word) > 1 and not word in stop_words])\n",
    "cvec = CountVectorizer(analyzer = \"word\",\n",
    "                       min_df = 2,\n",
    "                       preprocessor = preprocess,\n",
    "                       stop_words = 'english')"
   ]
  },
  {
   "cell_type": "code",
   "execution_count": 14,
   "metadata": {},
   "outputs": [],
   "source": [
    "# NLP 2\n",
    "def funct_df_to_word_count(df_funct):\n",
    "    df_cvec = pd.DataFrame(cvec.fit_transform(df_funct['Title'\n",
    "        ].map(lambda x: preprocess(x))).todense(),\n",
    "        columns=cvec.get_feature_names())\n",
    "    list_of_dicts = []\n",
    "    for row_name in df_cvec.columns:\n",
    "        list_of_dicts.append({\n",
    "            'Word'  : row_name,\n",
    "            'Count' : df_cvec[row_name].sum()\n",
    "        })\n",
    "    return pd.DataFrame(list_of_dicts, columns= ['Word', 'Count']\n",
    "                       ).sort_values(by = 'Count',ascending=False\n",
    "                       ).reset_index().drop('index',axis = 1)"
   ]
  },
  {
   "cell_type": "code",
   "execution_count": 15,
   "metadata": {},
   "outputs": [
    {
     "name": "stderr",
     "output_type": "stream",
     "text": [
      "/Users/pearl/opt/anaconda3/lib/python3.7/site-packages/sklearn/feature_extraction/text.py:300: UserWarning: Your stop_words may be inconsistent with your preprocessing. Tokenizing the stop words generated tokens ['le'] not in stop_words.\n",
      "  'stop_words.' % sorted(inconsistent))\n"
     ]
    },
    {
     "data": {
      "text/html": [
       "<div>\n",
       "<style scoped>\n",
       "    .dataframe tbody tr th:only-of-type {\n",
       "        vertical-align: middle;\n",
       "    }\n",
       "\n",
       "    .dataframe tbody tr th {\n",
       "        vertical-align: top;\n",
       "    }\n",
       "\n",
       "    .dataframe thead th {\n",
       "        text-align: right;\n",
       "    }\n",
       "</style>\n",
       "<table border=\"1\" class=\"dataframe\">\n",
       "  <thead>\n",
       "    <tr style=\"text-align: right;\">\n",
       "      <th></th>\n",
       "      <th>Word</th>\n",
       "      <th>Count</th>\n",
       "    </tr>\n",
       "  </thead>\n",
       "  <tbody>\n",
       "    <tr>\n",
       "      <td>1</td>\n",
       "      <td>black</td>\n",
       "      <td>22</td>\n",
       "    </tr>\n",
       "    <tr>\n",
       "      <td>2</td>\n",
       "      <td>dance</td>\n",
       "      <td>14</td>\n",
       "    </tr>\n",
       "    <tr>\n",
       "      <td>3</td>\n",
       "      <td>pack</td>\n",
       "      <td>12</td>\n",
       "    </tr>\n",
       "    <tr>\n",
       "      <td>4</td>\n",
       "      <td>usb</td>\n",
       "      <td>11</td>\n",
       "    </tr>\n",
       "    <tr>\n",
       "      <td>5</td>\n",
       "      <td>cable</td>\n",
       "      <td>11</td>\n",
       "    </tr>\n",
       "    <tr>\n",
       "      <td>6</td>\n",
       "      <td>pc</td>\n",
       "      <td>8</td>\n",
       "    </tr>\n",
       "    <tr>\n",
       "      <td>7</td>\n",
       "      <td>lens</td>\n",
       "      <td>8</td>\n",
       "    </tr>\n",
       "    <tr>\n",
       "      <td>8</td>\n",
       "      <td>revolution</td>\n",
       "      <td>7</td>\n",
       "    </tr>\n",
       "    <tr>\n",
       "      <td>9</td>\n",
       "      <td>playstation</td>\n",
       "      <td>7</td>\n",
       "    </tr>\n",
       "    <tr>\n",
       "      <td>10</td>\n",
       "      <td>case</td>\n",
       "      <td>7</td>\n",
       "    </tr>\n",
       "    <tr>\n",
       "      <td>11</td>\n",
       "      <td>kit</td>\n",
       "      <td>7</td>\n",
       "    </tr>\n",
       "    <tr>\n",
       "      <td>12</td>\n",
       "      <td>hdmi</td>\n",
       "      <td>7</td>\n",
       "    </tr>\n",
       "    <tr>\n",
       "      <td>13</td>\n",
       "      <td>ft</td>\n",
       "      <td>6</td>\n",
       "    </tr>\n",
       "    <tr>\n",
       "      <td>14</td>\n",
       "      <td>tape</td>\n",
       "      <td>6</td>\n",
       "    </tr>\n",
       "    <tr>\n",
       "      <td>15</td>\n",
       "      <td>iphone</td>\n",
       "      <td>6</td>\n",
       "    </tr>\n",
       "  </tbody>\n",
       "</table>\n",
       "</div>"
      ],
      "text/plain": [
       "           Word  Count\n",
       "1         black     22\n",
       "2         dance     14\n",
       "3          pack     12\n",
       "4           usb     11\n",
       "5         cable     11\n",
       "6            pc      8\n",
       "7          lens      8\n",
       "8    revolution      7\n",
       "9   playstation      7\n",
       "10         case      7\n",
       "11          kit      7\n",
       "12         hdmi      7\n",
       "13           ft      6\n",
       "14         tape      6\n",
       "15       iphone      6"
      ]
     },
     "execution_count": 15,
     "metadata": {},
     "output_type": "execute_result"
    }
   ],
   "source": [
    "# NLP 3\n",
    "df_word_count = funct_df_to_word_count(df_items)\n",
    "df_word_count.index += 1 \n",
    "df_word_count.head(15)"
   ]
  },
  {
   "cell_type": "markdown",
   "metadata": {},
   "source": [
    "## Graphs"
   ]
  },
  {
   "cell_type": "code",
   "execution_count": 16,
   "metadata": {},
   "outputs": [
    {
     "data": {
      "image/png": "[encoded data removed]",
      "text/plain": [
       "<Figure size 432x288 with 1 Axes>"
      ]
     },
     "metadata": {
      "needs_background": "light"
     },
     "output_type": "display_data"
    }
   ],
   "source": [
    "# Graph 1\n",
    "# Count per Month\n",
    "plt.bar(df_month.index,                  # X Positions\n",
    "         df_month['Num_items'], color = 'blue')          # Bar Heights\n",
    "\n",
    "# X axis\n",
    "plt.xlabel(\"Month\", size = 15)\n",
    "\n",
    "# Y axis\n",
    "plt.grid(   axis = 'y', alpha = 0.2, color = 'black')\n",
    "plt.ylabel( \"Purchases\", size = 15)\n",
    "\n",
    "# Meta\n",
    "plt.title(\"Purchases for each Month\", size = 17);"
   ]
  },
  {
   "cell_type": "code",
   "execution_count": 17,
   "metadata": {},
   "outputs": [
    {
     "data": {
      "image/png": "[encoded data removed]",
      "text/plain": [
       "<Figure size 432x288 with 1 Axes>"
      ]
     },
     "metadata": {
      "needs_background": "light"
     },
     "output_type": "display_data"
    }
   ],
   "source": [
    "# Graph 2: Count / Year\n",
    "plt.bar(df_year.index,                  # X Positions\n",
    "        df_year['Num_items'], color = 'blue')          # Bar Heights\n",
    "\n",
    "# X axis\n",
    "plt.xlabel(\"Year\", size = 15)\n",
    "#plt.xticks([2018])#[i for i in range(2006,2020)])\n",
    "\n",
    "\n",
    "# Y axis\n",
    "plt.grid(   axis = 'y', alpha = 0.2, color = 'black')\n",
    "plt.ylabel( \"Purchases\", size = 15)\n",
    "\n",
    "# Meta\n",
    "plt.title(\"Purchases Each Year\", size = 17);"
   ]
  },
  {
   "cell_type": "code",
   "execution_count": 18,
   "metadata": {},
   "outputs": [
    {
     "data": {
      "image/png": "[encoded data removed]",
      "text/plain": [
       "<Figure size 432x288 with 1 Axes>"
      ]
     },
     "metadata": {
      "needs_background": "light"
     },
     "output_type": "display_data"
    }
   ],
   "source": [
    "# Graph 3: $ / Month\n",
    "plt.bar(df_month.index,                  # X Positions\n",
    "         df_month['Sum_total_spent'], color = 'blue')          # Bar Heights\n",
    "\n",
    " # X axis\n",
    "plt.xlabel(\"Month\", size = 15)\n",
    "\n",
    "# Y axis\n",
    "val_range = range(0,1001,100)\n",
    "#val_range = range(0,801,100)\n",
    "plt.yticks(   ticks = [i for i in val_range], labels = ['$' + str(i) for i in val_range])\n",
    "plt.grid(     axis = 'y', alpha = 0.2, color = 'black')\n",
    "plt.ylabel(   \"Dollars Spent\", size = 15)\n",
    "\n",
    "\n",
    "# Meta\n",
    "plt.title(\"Spending per Month\", size = 17);"
   ]
  },
  {
   "cell_type": "code",
   "execution_count": 19,
   "metadata": {},
   "outputs": [
    {
     "data": {
      "text/html": [
       "<div>\n",
       "<style scoped>\n",
       "    .dataframe tbody tr th:only-of-type {\n",
       "        vertical-align: middle;\n",
       "    }\n",
       "\n",
       "    .dataframe tbody tr th {\n",
       "        vertical-align: top;\n",
       "    }\n",
       "\n",
       "    .dataframe thead th {\n",
       "        text-align: right;\n",
       "    }\n",
       "</style>\n",
       "<table border=\"1\" class=\"dataframe\">\n",
       "  <thead>\n",
       "    <tr style=\"text-align: right;\">\n",
       "      <th></th>\n",
       "      <th>Num_items</th>\n",
       "      <th>Sum_price_listed</th>\n",
       "      <th>Sum_price_purchased</th>\n",
       "      <th>Sum_tax</th>\n",
       "      <th>Sum_total_spent</th>\n",
       "      <th>Sum_untaxed_saved</th>\n",
       "    </tr>\n",
       "  </thead>\n",
       "  <tbody>\n",
       "    <tr>\n",
       "      <td>2013</td>\n",
       "      <td>2.0</td>\n",
       "      <td>27.00</td>\n",
       "      <td>63.28</td>\n",
       "      <td>5.54</td>\n",
       "      <td>68.82</td>\n",
       "      <td>-36.28</td>\n",
       "    </tr>\n",
       "    <tr>\n",
       "      <td>2014</td>\n",
       "      <td>4.0</td>\n",
       "      <td>225.59</td>\n",
       "      <td>41.29</td>\n",
       "      <td>0.00</td>\n",
       "      <td>41.29</td>\n",
       "      <td>184.30</td>\n",
       "    </tr>\n",
       "    <tr>\n",
       "      <td>2015</td>\n",
       "      <td>10.0</td>\n",
       "      <td>615.78</td>\n",
       "      <td>187.36</td>\n",
       "      <td>11.90</td>\n",
       "      <td>199.26</td>\n",
       "      <td>428.42</td>\n",
       "    </tr>\n",
       "    <tr>\n",
       "      <td>2016</td>\n",
       "      <td>30.0</td>\n",
       "      <td>1289.50</td>\n",
       "      <td>637.00</td>\n",
       "      <td>14.34</td>\n",
       "      <td>651.34</td>\n",
       "      <td>652.50</td>\n",
       "    </tr>\n",
       "    <tr>\n",
       "      <td>2017</td>\n",
       "      <td>38.0</td>\n",
       "      <td>896.07</td>\n",
       "      <td>669.08</td>\n",
       "      <td>35.51</td>\n",
       "      <td>704.59</td>\n",
       "      <td>226.99</td>\n",
       "    </tr>\n",
       "    <tr>\n",
       "      <td>2018</td>\n",
       "      <td>10.0</td>\n",
       "      <td>147.96</td>\n",
       "      <td>183.94</td>\n",
       "      <td>9.16</td>\n",
       "      <td>193.10</td>\n",
       "      <td>-35.98</td>\n",
       "    </tr>\n",
       "    <tr>\n",
       "      <td>2019</td>\n",
       "      <td>7.0</td>\n",
       "      <td>96.52</td>\n",
       "      <td>117.80</td>\n",
       "      <td>0.00</td>\n",
       "      <td>117.80</td>\n",
       "      <td>-21.28</td>\n",
       "    </tr>\n",
       "  </tbody>\n",
       "</table>\n",
       "</div>"
      ],
      "text/plain": [
       "      Num_items  Sum_price_listed  Sum_price_purchased  Sum_tax  \\\n",
       "2013        2.0             27.00                63.28     5.54   \n",
       "2014        4.0            225.59                41.29     0.00   \n",
       "2015       10.0            615.78               187.36    11.90   \n",
       "2016       30.0           1289.50               637.00    14.34   \n",
       "2017       38.0            896.07               669.08    35.51   \n",
       "2018       10.0            147.96               183.94     9.16   \n",
       "2019        7.0             96.52               117.80     0.00   \n",
       "\n",
       "      Sum_total_spent  Sum_untaxed_saved  \n",
       "2013            68.82             -36.28  \n",
       "2014            41.29             184.30  \n",
       "2015           199.26             428.42  \n",
       "2016           651.34             652.50  \n",
       "2017           704.59             226.99  \n",
       "2018           193.10             -35.98  \n",
       "2019           117.80             -21.28  "
      ]
     },
     "execution_count": 19,
     "metadata": {},
     "output_type": "execute_result"
    }
   ],
   "source": [
    "df_year"
   ]
  },
  {
   "cell_type": "code",
   "execution_count": 20,
   "metadata": {},
   "outputs": [
    {
     "data": {
      "image/png": "[encoded data removed]",
      "text/plain": [
       "<Figure size 432x288 with 1 Axes>"
      ]
     },
     "metadata": {
      "needs_background": "light"
     },
     "output_type": "display_data"
    }
   ],
   "source": [
    "# Graph 4: $/Year\n",
    "plt.grid(axis = 'y', alpha = 0.2, color = 'black')\n",
    "plt.bar(df_year.index,                  # X Positions\n",
    "         df_year['Sum_total_spent'], color = 'blue')    # Bar Heights\n",
    "plt.xlabel(\"Year\", size = 15)\n",
    "\n",
    "plt.ylabel(\"Dollars Spent\", size = 15)\n",
    "val_range = range(0,1601,200)\n",
    "#val_range = range(0,2501,250)\n",
    "plt.yticks(ticks= [i for i in val_range], labels = ['$' + str(i) for i in val_range])\n",
    "\n",
    "plt.title(\"Spending per Year\", size = 17);"
   ]
  },
  {
   "cell_type": "code",
   "execution_count": 21,
   "metadata": {},
   "outputs": [
    {
     "data": {
      "image/png": "[encoded data removed]",
      "text/plain": [
       "<Figure size 936x360 with 1 Axes>"
      ]
     },
     "metadata": {
      "needs_background": "light"
     },
     "output_type": "display_data"
    }
   ],
   "source": [
    "# Graph 6\n",
    "\n",
    "# Pre-Meta\n",
    "plt.figure(figsize=(13,5))\n",
    "\n",
    "# Plot Type\n",
    "plt.bar(df_month_year.index.values,\n",
    "         (df_month_year['Num_items']),\n",
    "         color='blue')\n",
    "\n",
    "# X axes\n",
    "plt.xlabel(\"Date\", size = 15)\n",
    "plt.xticks(range(0,df_month_year.shape[0], 3),rotation=70, fontsize=12);\n",
    "\n",
    "# Y axes\n",
    "plt.ylabel(\"Items Purchased\", size = 15)\n",
    "plt.grid(   axis = 'y', alpha = 0.2, color = 'black')\n",
    "\n",
    "# Post Meta\n",
    "plt.title(\"Number of Purchases Over Time\", size = 17);"
   ]
  },
  {
   "cell_type": "code",
   "execution_count": 22,
   "metadata": {},
   "outputs": [
    {
     "data": {
      "image/png": "[encoded data removed]",
      "text/plain": [
       "<Figure size 936x360 with 1 Axes>"
      ]
     },
     "metadata": {
      "needs_background": "light"
     },
     "output_type": "display_data"
    }
   ],
   "source": [
    "# Graph 5: $ Spent every month\n",
    "\n",
    "# Pre Meta\n",
    "plt.figure(figsize=(13,5))\n",
    "\n",
    "# Plot Type\n",
    "plt.bar(df_month_year.index.values,\n",
    "         (df_month_year['Sum_price_purchased'] + df_month_year['Sum_tax']),\n",
    "         color='b')\n",
    "\n",
    "# X axes\n",
    "plt.xlabel(\"Date\", size = 15)\n",
    "plt.xticks(range(0,df_month_year.shape[0], 3),rotation=70, fontsize=12)\n",
    "\n",
    "# Y axes\n",
    "val_range = range(0,401,50)\n",
    "#val_range = range(0,701,100)\n",
    "plt.yticks(ticks= [i for i in val_range], labels = ['$' + str(i) for i in val_range])\n",
    "plt.ylabel(\"Dollars Spent\", size = 15)\n",
    "plt.grid(   axis = 'y', alpha = 0.2, color = 'black')\n",
    "\n",
    "\n",
    "# Post Meta\n",
    "plt.title(\"Money spent over time\", size = 17);\n",
    "\n",
    "# calculate x scale"
   ]
  },
  {
   "cell_type": "code",
   "execution_count": null,
   "metadata": {},
   "outputs": [],
   "source": []
  }
 ],
 "metadata": {
  "kernelspec": {
   "display_name": "Python 3",
   "language": "python",
   "name": "python3"
  },
  "language_info": {
   "codemirror_mode": {
    "name": "ipython",
    "version": 3
   },
   "file_extension": ".py",
   "mimetype": "text/x-python",
   "name": "python",
   "nbconvert_exporter": "python",
   "pygments_lexer": "ipython3",
   "version": "3.7.4"
  }
 },
 "nbformat": 4,
 "nbformat_minor": 2
}
